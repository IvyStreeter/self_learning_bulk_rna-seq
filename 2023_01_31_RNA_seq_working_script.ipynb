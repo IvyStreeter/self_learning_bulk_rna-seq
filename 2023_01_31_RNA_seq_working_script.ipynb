{
  "cells": [
    {
      "cell_type": "code",
      "execution_count": null,
      "metadata": {
        "id": "XP4i2IRPNNUW"
      },
      "outputs": [],
      "source": [
        "# Ask for resources, 100 GB is a lot, ask only if you will be creating a new index, otherwise 50 GB should be enough\n",
        "# If run is stated as killed, you likely did not have enough memory\n",
        "srun --pty -c 12 -p interactive -t 0-12:00 --mem 100GB /bin/bash"
      ]
    },
    {
      "cell_type": "code",
      "execution_count": null,
      "metadata": {
        "id": "GRVO6D4WIPeW"
      },
      "outputs": [],
      "source": [
        "# Enter scratch folder\n",
        "cd /path/to/folder/"
      ]
    },
    {
      "cell_type": "code",
      "execution_count": null,
      "metadata": {
        "id": "r_E_DLACdoKS"
      },
      "outputs": [],
      "source": [
        "# Genecode M25, equivalent to GRCM38\n",
        "# https://www.gencodegenes.org/mouse/releases.html\n",
        "wget https://ftp.ebi.ac.uk/pub/databases/gencode/Gencode_mouse/release_M25/gencode.vM25.transcripts.fa.gz\n"
      ]
    },
    {
      "cell_type": "code",
      "execution_count": null,
      "metadata": {
        "id": "saj4iE8XK8G0"
      },
      "outputs": [],
      "source": [
        "# For an older build GRCm38\n",
        "wget https://ftp.ensembl.org/pub/release-102/fasta/mus_musculus/cdna/Mus_musculus.GRCm38.cdna.all.fa.gz\n"
      ]
    },
    {
      "cell_type": "code",
      "execution_count": null,
      "metadata": {
        "id": "L9MAGNskNJki"
      },
      "outputs": [],
      "source": [
        "module purge\n",
        "module load miniconda3/4.10.3\n",
        "conda init zsh\n",
        "####. ~/.bashrc remove if zshrc is successfull for others\n",
        ". ~/.zshrc"
      ]
    },
    {
      "cell_type": "code",
      "execution_count": null,
      "metadata": {
        "id": "__t93R7BN-lg"
      },
      "outputs": [],
      "source": [
        "conda config --add channels defaults\n",
        "conda config --add channels bioconda\n",
        "conda config --add channels conda-forge\n",
        "conda config --set offline false"
      ]
    },
    {
      "cell_type": "markdown",
      "metadata": {
        "id": "sY48cg9nROPI"
      },
      "source": [
        "Part 1:\n",
        "Creating your enviornments"
      ]
    },
    {
      "cell_type": "code",
      "execution_count": null,
      "metadata": {
        "id": "8JELXURROGb2"
      },
      "outputs": [],
      "source": [
        "# create an enviornemnt for quality control, trimming, and alignment \n",
        "# select y for proceeding after running the command\n",
        "conda create --name rnaseq\n",
        "\n",
        "# enter the enviornment\n",
        "conda activate rnaseq"
      ]
    },
    {
      "cell_type": "code",
      "execution_count": null,
      "metadata": {
        "id": "-l16TkrKQgq0"
      },
      "outputs": [],
      "source": [
        "# install star\n",
        "# select y for proceeding after running the command\n",
        "conda install -c bioconda star"
      ]
    },
    {
      "cell_type": "code",
      "execution_count": null,
      "metadata": {
        "id": "jSAvRmR3Q901"
      },
      "outputs": [],
      "source": [
        "# install fasttqc\n",
        "# select y for proceeding after running the command\n",
        "conda install -c bioconda fastqc"
      ]
    },
    {
      "cell_type": "code",
      "execution_count": null,
      "metadata": {
        "id": "pmCvgExERjQ5"
      },
      "outputs": [],
      "source": [
        "# install multiqc\n",
        "# select y for proceeding after running the command\n",
        "conda install -c bioconda multiqc"
      ]
    },
    {
      "cell_type": "code",
      "execution_count": null,
      "metadata": {
        "id": "vfPoRtyGRzHl"
      },
      "outputs": [],
      "source": [
        "# install trimmomcatic\n",
        "# select y for proceeding after running the command\n",
        "conda install -c bioconda trimmomatic"
      ]
    },
    {
      "cell_type": "code",
      "execution_count": null,
      "metadata": {
        "id": "qXzGvfUds0vG"
      },
      "outputs": [],
      "source": [
        "# Locate the adapter sequence, should look like something below\n",
        "# /home/sez10/miniconda3/envs/meta_assemblers/share/trimmomatic-0.39-1/adapters/\n",
        "# If this is not where your adapters are stored, identify using \n",
        "# find / -name NexteraPE-PE.fa 2>/dev/null\n",
        "\n",
        "# This takes some time on the cluster, go do something else while you wait >10 minutes\n",
        "rsync -ahP /home/sez10/miniconda3/envs/meta_assemblers/share/trimmomatic-0.39-1/adapters/NexteraPE-PE.fa ./\n"
      ]
    },
    {
      "cell_type": "code",
      "execution_count": null,
      "metadata": {
        "id": "4d47zz0vTZg-"
      },
      "outputs": [],
      "source": [
        "# Leave this enviornment\n",
        "conda deactivate"
      ]
    },
    {
      "cell_type": "code",
      "execution_count": null,
      "metadata": {
        "id": "HtGHL_CgT9Jv"
      },
      "outputs": [],
      "source": [
        "# Create an enviornemnt for quality control, trimming, and alignment \n",
        "# Select y for proceeding after running the command\n",
        "conda create --name post_alignment\n",
        "\n",
        "# Enter the enviornment\n",
        "conda activate post_alignment"
      ]
    },
    {
      "cell_type": "code",
      "execution_count": null,
      "metadata": {
        "id": "jAAsgeHGUB5n"
      },
      "outputs": [],
      "source": [
        "# Install samtools\n",
        "# Select y for proceeding after running the command\n",
        "conda install -c bioconda samtools"
      ]
    },
    {
      "cell_type": "code",
      "execution_count": null,
      "metadata": {
        "id": "00WNzg24UBqS"
      },
      "outputs": [],
      "source": [
        "# Install rsem\n",
        "# Select y for proceeding after running the command\n",
        "conda install -c bioconda rsem"
      ]
    },
    {
      "cell_type": "code",
      "execution_count": null,
      "metadata": {
        "id": "BKitgWQoVIKN"
      },
      "outputs": [],
      "source": [
        "# Leave\n",
        "conda deactivate"
      ]
    },
    {
      "cell_type": "markdown",
      "metadata": {
        "id": "uMw0aMZdUxz1"
      },
      "source": [
        "Part 2: Pre-processing fastqc, multiqc, trimming adaptors, alignment"
      ]
    },
    {
      "cell_type": "code",
      "execution_count": null,
      "metadata": {
        "id": "Lu8c_hK1UxgC"
      },
      "outputs": [],
      "source": [
        "# Go into rnaseq enviornment\n",
        "conda activate rnaseq"
      ]
    },
    {
      "cell_type": "code",
      "execution_count": null,
      "metadata": {
        "id": "hCDm80XUh00f"
      },
      "outputs": [],
      "source": [
        "# In your folder, make this folder and put your fastqc files in it\n",
        "mkdir fastqc_files"
      ]
    },
    {
      "cell_type": "code",
      "execution_count": null,
      "metadata": {
        "id": "BfOAqAI2h5RK"
      },
      "outputs": [],
      "source": [
        "# Run as a fastqc.sh in the future\n"
      ]
    },
    {
      "cell_type": "code",
      "execution_count": null,
      "metadata": {
        "id": "Rze2pgHI7SLK"
      },
      "outputs": [],
      "source": [
        "# Fastqc script below\n",
        "\n",
        "#!/bin/bash\n",
        "\n",
        "# Directory containing the FASTQ files\n",
        "fastq_dir=\"./fastq_files\"\n",
        "\n",
        "# Directory to store FastQC outputs\n",
        "output_dir=\"./FASTQC_report\"\n",
        "\n",
        "# Create output directory if it doesn't exist\n",
        "mkdir -p $output_dir\n",
        "\n",
        "# Loop through all the FASTQ files in the fastq_dir\n",
        "for file in $fastq_dir/*.fastq.gz; do\n",
        "    # Run FastQC on each FASTQ file\n",
        "    fastqc -o $output_dir -t 12 $file\n",
        "done\n"
      ]
    },
    {
      "cell_type": "markdown",
      "metadata": {
        "id": "hmJx8bJ48hbx"
      },
      "source": [
        "Question for the above script, how do you request threads specified by the user?"
      ]
    },
    {
      "cell_type": "code",
      "execution_count": null,
      "metadata": {
        "id": "5SV4i5JM8gC0"
      },
      "outputs": [],
      "source": [
        "# Multiqc the fastq files into one output\n",
        "multiqc -f $output_dir -o multiqc_fastqc_results"
      ]
    },
    {
      "cell_type": "markdown",
      "metadata": {
        "id": "2U7RTtzqtHmc"
      },
      "source": [
        "view output by downloading the html file to your desktop"
      ]
    },
    {
      "cell_type": "code",
      "execution_count": null,
      "metadata": {
        "id": "K8C8X0IKcRoR"
      },
      "outputs": [],
      "source": [
        "# Trim adapters with trimmomatic, takes a few minutes\n",
        "#!/bin/bash\n",
        "\n",
        "# Define the directory containing fastq files\n",
        "fastq_dir=\"./fastq_files\"\n",
        "\n",
        "# Define the output directory for Trimmomatic\n",
        "output_dir=\"./trimmed_fastq\"\n",
        "\n",
        "# Make the output directory if it does not already exist\n",
        "mkdir -p $output_dir\n",
        "\n",
        "# Loop through all fastq files in the directory\n",
        "for file in $fastq_dir/*_R1_001.fastq.gz; do\n",
        "    # Get the base name of the file (without the path or extension)\n",
        "    base=$(basename $file .fastq.gz | sed 's/_R1_.*//')\n",
        "\n",
        "    # Run Trimmomatic on each paired-end FASTQ file\n",
        "    trimmomatic PE \\\n",
        "        -threads 8 -phred33 \"$fastq_dir/${base}_R1_001.fastq.gz\" \\\n",
        "        \"$fastq_dir/${base}_R2_001.fastq.gz\" \\\n",
        "        \"$output_dir/${base}_trimmed_R1.fastq.gz\" \\\n",
        "        \"$output_dir/${base}_trimmed_R1_unpaired.fastq.gz\" \\\n",
        "        \"$output_dir/${base}_trimmed_R2.fastq.gz\" \\\n",
        "        \"$output_dir/${base}_trimmed_R2_unpaired.fastq.gz\" \\\n",
        "        ILLUMINACLIP:NexteraPE-PE.fa:2:30:10 \\\n",
        "        LEADING:3 \\\n",
        "        TRAILING:3 \\\n",
        "        SLIDINGWINDOW:4:15 \\\n",
        "        MINLEN:36\n",
        "done"
      ]
    },
    {
      "cell_type": "code",
      "execution_count": null,
      "metadata": {
        "id": "krjRiUblsMF6"
      },
      "outputs": [],
      "source": [
        "# Run fastqc, then multiqc to view data\n",
        "fastq_dir=\"./trimmed_fastq\"\n",
        "\n",
        "# Directory to store FastQC outputs\n",
        "output_dir=\"./trimmed_report\"\n",
        "\n",
        "# Create output directory if it doesn't exist\n",
        "mkdir -p $output_dir\n",
        "\n",
        "# Loop through all the FASTQ files in the fastq_dir\n",
        "for file in $fastq_dir/*.fastq.gz; do\n",
        "    # Run FastQC on each FASTQ file\n",
        "    fastqc -o $output_dir -t 12 $file\n",
        "done\n",
        "\n",
        "# MultiQC, verify adapters are removed\n",
        "multiqc -f $output_dir --ignore '*unpaired*' -o multiqc_trim_results\n"
      ]
    },
    {
      "cell_type": "markdown",
      "metadata": {
        "id": "p4uauQM2G-Zr"
      },
      "source": [
        "Run star"
      ]
    },
    {
      "cell_type": "code",
      "execution_count": null,
      "metadata": {
        "id": "JSovPjRaHMQO"
      },
      "outputs": [],
      "source": [
        "# Create an index file (only needs to be done once, if someone has it, just copy into your folder\n",
        "# because it requires a lot of RAM\n",
        "\n",
        "#######################################################\n",
        "# Do Not Execute, code to make index for genecode M31 #\n",
        "#######################################################\n",
        "\n",
        "# Make a text file\n",
        "nano index_M31.sh\n",
        "\n",
        "# Unpack files\n",
        "gzip -d gencode.vM31.transcripts.fa.gz\n",
        "gzip -d gencode.vM31.annotation.gtf.gz\n",
        "gzip -d gencode.vM25.annotation.fa.gz\n",
        "gzip -d gencode.vM25.annotation.gtf.gz\n",
        "\n",
        "# index_M31.sh\n",
        "#!/bin/bash\n",
        "#SBATCH -c 12\n",
        "#SBATCH -t 0-12:00\n",
        "#SBATCH -p short\n",
        "#SBATCH --mem=100GB\n",
        "#SBATCH -o hostname_%j.out\n",
        "#SBATCH -e hostname_%j.err\n",
        "#SBATCH --mail-type=FAIL\n",
        "#SBATCH --mail-user=ivl912@hms.harvard.edu\n",
        "\n",
        "module purge\n",
        "module load miniconda3/4.10.3\n",
        "conda init zsh\n",
        "\n",
        "####. ~/.bashrc remove if zshrc is successfull for others\n",
        "\n",
        ". ~/.zshrc\n",
        "conda activate rnaseq\n",
        "\n",
        "# Genecode M31\n",
        "ref_genome=/path/to/folder/Test/gencode.vM31.transcripts.fa\n",
        "gtf_file=/path/to/folder/Test/gencode.vM31.annotation.gtf\n",
        "\n",
        "mkdir -p star_index_M31\n",
        "\n",
        "# Define the directory where the star index will be stored\n",
        "star_index_dir=/path/to/folder/Test/star_index_M31\n",
        "\n",
        "# Increase RAM useage\n",
        "RAM=104454248032\n",
        "\n",
        "# Command to run STAR to create the index\n",
        "STAR \\\n",
        "  --runThreadN 12 \\\n",
        "  --runMode genomeGenerate \\\n",
        "  --genomeDir $star_index_dir \\\n",
        "  --genomeFastaFiles $ref_genome \\\n",
        "  --limitGenomeGenerateRAM $RAM\n",
        "\n",
        "# Run the code once the script is saved\n",
        "sbatch index_M31.sh\n",
        "\n",
        "#######################################################\n",
        "# Do Not Execute, code to make index for genecode M25 #\n",
        "#######################################################\n",
        "\n",
        "# Make a text file\n",
        "nano index_M31.sh\n",
        "\n",
        "#!/bin/bash\n",
        "#SBATCH -c 12\n",
        "#SBATCH -t 0-12:00\n",
        "#SBATCH -p short\n",
        "#SBATCH --mem=100GB\n",
        "#SBATCH -o hostname_%j.out\n",
        "#SBATCH -e hostname_%j.err\n",
        "#SBATCH --mail-type=FAIL\n",
        "#SBATCH --mail-user=ivl912@hms.harvard.edu\n",
        "\n",
        "module purge\n",
        "module load miniconda3/4.10.3\n",
        "conda init zsh\n",
        "\n",
        "####. ~/.bashrc remove if zshrc is successfull for others\n",
        ". ~/.zshrc\n",
        "conda activate rnaseq\n",
        "\n",
        "# Genecode M25\n",
        "ref_genome=/path/to/folder/Test/gencode.vM25.transcripts.fa\n",
        "gtf_file=/path/to/folder/Test/gencode.vM25.annotation.gtf.gz\n",
        "\n",
        "mkdir -p star_index_38_g25\n",
        "\n",
        "# Define the directory where the star index will be stored\n",
        "star_index_dir=/path/to/folder/Test/star_index_M25\n",
        "\n",
        "# Increase RAM useage\n",
        "RAM=104454248032\n",
        "\n",
        "# Command to run STAR to create the index\n",
        "STAR \\\n",
        "  --runThreadN 12 \\\n",
        "  --runMode genomeGenerate \\\n",
        "  --genomeDir $star_index_dir \\\n",
        "  --genomeFastaFiles $ref_genome \\\n",
        "  --limitGenomeGenerateRAM $RAM\n",
        "\n",
        "# Run the code once the script is saved\n",
        "sbatch index_M25.sh"
      ]
    },
    {
      "cell_type": "code",
      "execution_count": null,
      "metadata": {
        "id": "MSA_sS79PgRF"
      },
      "outputs": [],
      "source": []
    }
  ],
  "metadata": {
    "colab": {
      "provenance": []
    },
    "kernelspec": {
      "display_name": "Python 3",
      "name": "python3"
    },
    "language_info": {
      "name": "python"
    }
  },
  "nbformat": 4,
  "nbformat_minor": 0
}
